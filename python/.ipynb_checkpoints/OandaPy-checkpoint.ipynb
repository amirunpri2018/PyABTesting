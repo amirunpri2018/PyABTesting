{
 "cells": [
  {
   "cell_type": "code",
   "execution_count": 19,
   "metadata": {
    "collapsed": true
   },
   "outputs": [],
   "source": [
    "import oandapy\n",
    "import pandas as pd\n",
    "account = \"101-011-6029361-001\"\n",
    "access_token=\"8153764443276ed6230c2d8a95dac609-e9e68019e7c1c51e6f99a755007914f7\"\n",
    "account_type = \"practice\""
   ]
  },
  {
   "cell_type": "code",
   "execution_count": 10,
   "metadata": {
    "collapsed": true
   },
   "outputs": [],
   "source": [
    "oanda = oandapy.API(environment=account_type, access_token=access_token)"
   ]
  },
  {
   "cell_type": "code",
   "execution_count": 11,
   "metadata": {
    "collapsed": true
   },
   "outputs": [],
   "source": [
    "response = oanda.get_prices(instruments=\"EUR_USD\")\n",
    "prices = response.get(\"prices\")\n",
    "asking_price = prices[0].get(\"ask\")"
   ]
  },
  {
   "cell_type": "code",
   "execution_count": 12,
   "metadata": {},
   "outputs": [
    {
     "data": {
      "text/plain": [
       "1.13864"
      ]
     },
     "execution_count": 12,
     "metadata": {},
     "output_type": "execute_result"
    }
   ],
   "source": [
    "asking_price"
   ]
  },
  {
   "cell_type": "code",
   "execution_count": 13,
   "metadata": {},
   "outputs": [],
   "source": [
    "class MyStreamer(oandapy.Streamer):\n",
    "    def __init__(self, count=10, *args, **kwargs):\n",
    "        super(MyStreamer, self).__init__(*args, **kwargs)\n",
    "        self.count = count\n",
    "        self.reccnt = 0\n",
    "\n",
    "    def on_success(self, data):\n",
    "        print(data, \"\\n\")\n",
    "        self.reccnt += 1\n",
    "        if self.reccnt == self.count:\n",
    "            self.disconnect()\n",
    "\n",
    "    def on_error(self, data):\n",
    "        self.disconnect()"
   ]
  },
  {
   "cell_type": "code",
   "execution_count": 14,
   "metadata": {
    "collapsed": true
   },
   "outputs": [],
   "source": [
    "stream = MyStreamer(environment=account_type, access_token=access_token)\n",
    "stream.rates(account, instruments=\"EUR_USD,EUR_JPY,US30_USD,DE30_EUR\")"
   ]
  },
  {
   "cell_type": "code",
   "execution_count": 16,
   "metadata": {},
   "outputs": [],
   "source": [
    "hist = oanda.get_history(instrument = \"AUD_CAD\", granularity = \"M5\", count = 5000, price = \"MBA\")"
   ]
  },
  {
   "cell_type": "code",
   "execution_count": 24,
   "metadata": {},
   "outputs": [
    {
     "data": {
      "text/html": [
       "<div>\n",
       "<table border=\"1\" class=\"dataframe\">\n",
       "  <thead>\n",
       "    <tr style=\"text-align: right;\">\n",
       "      <th></th>\n",
       "      <th>closeAsk</th>\n",
       "      <th>closeBid</th>\n",
       "      <th>complete</th>\n",
       "      <th>highAsk</th>\n",
       "      <th>highBid</th>\n",
       "      <th>lowAsk</th>\n",
       "      <th>lowBid</th>\n",
       "      <th>openAsk</th>\n",
       "      <th>openBid</th>\n",
       "      <th>time</th>\n",
       "      <th>volume</th>\n",
       "    </tr>\n",
       "  </thead>\n",
       "  <tbody>\n",
       "    <tr>\n",
       "      <th>0</th>\n",
       "      <td>1.00821</td>\n",
       "      <td>1.00799</td>\n",
       "      <td>True</td>\n",
       "      <td>1.00866</td>\n",
       "      <td>1.00845</td>\n",
       "      <td>1.00819</td>\n",
       "      <td>1.00796</td>\n",
       "      <td>1.00855</td>\n",
       "      <td>1.00831</td>\n",
       "      <td>2017-06-15T04:00:00.000000Z</td>\n",
       "      <td>124</td>\n",
       "    </tr>\n",
       "    <tr>\n",
       "      <th>1</th>\n",
       "      <td>1.00821</td>\n",
       "      <td>1.00799</td>\n",
       "      <td>True</td>\n",
       "      <td>1.00831</td>\n",
       "      <td>1.00807</td>\n",
       "      <td>1.00814</td>\n",
       "      <td>1.00790</td>\n",
       "      <td>1.00823</td>\n",
       "      <td>1.00799</td>\n",
       "      <td>2017-06-15T04:05:00.000000Z</td>\n",
       "      <td>209</td>\n",
       "    </tr>\n",
       "    <tr>\n",
       "      <th>2</th>\n",
       "      <td>1.00824</td>\n",
       "      <td>1.00800</td>\n",
       "      <td>True</td>\n",
       "      <td>1.00831</td>\n",
       "      <td>1.00809</td>\n",
       "      <td>1.00817</td>\n",
       "      <td>1.00794</td>\n",
       "      <td>1.00821</td>\n",
       "      <td>1.00800</td>\n",
       "      <td>2017-06-15T04:10:00.000000Z</td>\n",
       "      <td>106</td>\n",
       "    </tr>\n",
       "    <tr>\n",
       "      <th>3</th>\n",
       "      <td>1.00812</td>\n",
       "      <td>1.00791</td>\n",
       "      <td>True</td>\n",
       "      <td>1.00831</td>\n",
       "      <td>1.00808</td>\n",
       "      <td>1.00812</td>\n",
       "      <td>1.00785</td>\n",
       "      <td>1.00824</td>\n",
       "      <td>1.00801</td>\n",
       "      <td>2017-06-15T04:15:00.000000Z</td>\n",
       "      <td>113</td>\n",
       "    </tr>\n",
       "    <tr>\n",
       "      <th>4</th>\n",
       "      <td>1.00812</td>\n",
       "      <td>1.00789</td>\n",
       "      <td>True</td>\n",
       "      <td>1.00816</td>\n",
       "      <td>1.00793</td>\n",
       "      <td>1.00805</td>\n",
       "      <td>1.00783</td>\n",
       "      <td>1.00812</td>\n",
       "      <td>1.00793</td>\n",
       "      <td>2017-06-15T04:20:00.000000Z</td>\n",
       "      <td>108</td>\n",
       "    </tr>\n",
       "  </tbody>\n",
       "</table>\n",
       "</div>"
      ],
      "text/plain": [
       "   closeAsk  closeBid complete  highAsk  highBid   lowAsk   lowBid  openAsk  \\\n",
       "0   1.00821   1.00799     True  1.00866  1.00845  1.00819  1.00796  1.00855   \n",
       "1   1.00821   1.00799     True  1.00831  1.00807  1.00814  1.00790  1.00823   \n",
       "2   1.00824   1.00800     True  1.00831  1.00809  1.00817  1.00794  1.00821   \n",
       "3   1.00812   1.00791     True  1.00831  1.00808  1.00812  1.00785  1.00824   \n",
       "4   1.00812   1.00789     True  1.00816  1.00793  1.00805  1.00783  1.00812   \n",
       "\n",
       "   openBid                         time  volume  \n",
       "0  1.00831  2017-06-15T04:00:00.000000Z     124  \n",
       "1  1.00799  2017-06-15T04:05:00.000000Z     209  \n",
       "2  1.00800  2017-06-15T04:10:00.000000Z     106  \n",
       "3  1.00801  2017-06-15T04:15:00.000000Z     113  \n",
       "4  1.00793  2017-06-15T04:20:00.000000Z     108  "
      ]
     },
     "execution_count": 24,
     "metadata": {},
     "output_type": "execute_result"
    }
   ],
   "source": [
    "pd.DataFrame(hist['candles']).head()"
   ]
  },
  {
   "cell_type": "code",
   "execution_count": null,
   "metadata": {
    "collapsed": true
   },
   "outputs": [],
   "source": []
  }
 ],
 "metadata": {
  "kernelspec": {
   "display_name": "Python 3",
   "language": "python",
   "name": "python3"
  },
  "language_info": {
   "codemirror_mode": {
    "name": "ipython",
    "version": 3
   },
   "file_extension": ".py",
   "mimetype": "text/x-python",
   "name": "python",
   "nbconvert_exporter": "python",
   "pygments_lexer": "ipython3",
   "version": "3.6.1"
  }
 },
 "nbformat": 4,
 "nbformat_minor": 2
}
