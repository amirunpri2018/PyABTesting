{
 "cells": [
  {
   "cell_type": "code",
   "execution_count": 1,
   "metadata": {
    "collapsed": true
   },
   "outputs": [],
   "source": [
    "import backtrader as bt\n",
    "import backtrader.indicators as btind\n",
    "import datetime\n",
    "import pandas as pd\n",
    "from pandas import Series, DataFrame\n",
    "import random\n",
    "from copy import deepcopy"
   ]
  },
  {
   "cell_type": "code",
   "execution_count": 2,
   "metadata": {
    "collapsed": true
   },
   "outputs": [],
   "source": [
    "class SMAC(bt.Strategy):\n",
    "    \"\"\"A simple moving average crossover strategy; crossing of a fast and slow moving average generates buy/sell\n",
    "       signals\"\"\"\n",
    "    params = {\"fast\": 20, \"slow\": 50,                  # The windows for both fast and slow moving averages\n",
    "              \"optim\": False, \"optim_fs\": (20, 50)}    # Used for optimization; equivalent of fast and slow, but a tuple\n",
    "                                                       # The first number in the tuple is the fast MA's window, the\n",
    "                                                       # second the slow MA's window\n",
    " \n",
    "    def __init__(self):\n",
    "        \"\"\"Initialize the strategy\"\"\"\n",
    " \n",
    "        self.fastma = dict()\n",
    "        self.slowma = dict()\n",
    "        self.regime = dict()\n",
    " \n",
    "        self._addobserver(True, bt.observers.BuySell)    # CAUTION: Abuse of the method, I will change this in future code (see: https://community.backtrader.com/topic/473/plotting-just-the-account-s-value/4)\n",
    " \n",
    "        if self.params.optim:    # Use a tuple during optimization\n",
    "            self.params.fast, self.params.slow = self.params.optim_fs    # fast and slow replaced by tuple's contents\n",
    " \n",
    "        if self.params.fast > self.params.slow:\n",
    "            raise ValueError(\n",
    "                \"A SMAC strategy cannot have the fast moving average's window be \" + \\\n",
    "                 \"greater than the slow moving average window.\")\n",
    " \n",
    "        for d in self.getdatanames():\n",
    " \n",
    "            # The moving averages\n",
    "            self.fastma[d] = btind.SimpleMovingAverage(self.getdatabyname(d),      # The symbol for the moving average\n",
    "                                                       period=self.params.fast,    # Fast moving average\n",
    "                                                       plotname=\"FastMA: \" + d)\n",
    "            self.slowma[d] = btind.SimpleMovingAverage(self.getdatabyname(d),      # The symbol for the moving average\n",
    "                                                       period=self.params.slow,    # Slow moving average\n",
    "                                                       plotname=\"SlowMA: \" + d)\n",
    " \n",
    "            # Get the regime\n",
    "            self.regime[d] = self.fastma[d] - self.slowma[d]    # Positive when bullish\n",
    " \n",
    "    def next(self):\n",
    "        \"\"\"Define what will be done in a single step, including creating and closing trades\"\"\"\n",
    "        for d in self.getdatanames():    # Looping through all symbols\n",
    "            pos = self.getpositionbyname(d).size or 0\n",
    "            if pos == 0:    # Are we out of the market?\n",
    "                # Consider the possibility of entrance\n",
    "                # Notice the indexing; [0] always mens the present bar, and [-1] the bar immediately preceding\n",
    "                # Thus, the condition below translates to: \"If today the regime is bullish (greater than\n",
    "                # 0) and yesterday the regime was not bullish\"\n",
    "                if self.regime[d][0] > 0 and self.regime[d][-1] <= 0:    # A buy signal\n",
    "                    self.buy(data=self.getdatabyname(d))\n",
    " \n",
    "            else:    # We have an open position\n",
    "                if self.regime[d][0] <= 0 and self.regime[d][-1] > 0:    # A sell signal\n",
    "                    self.sell(data=self.getdatabyname(d))\n",
    "              "
   ]
  },
  {
   "cell_type": "code",
   "execution_count": 3,
   "metadata": {
    "collapsed": true
   },
   "outputs": [],
   "source": [
    "class PropSizer(bt.Sizer):\n",
    "    \"\"\"A position sizer that will buy as many stocks as necessary for a certain proportion of the portfolio\n",
    "       to be committed to the position, while allowing stocks to be bought in batches (say, 100)\"\"\"\n",
    "    params = {\"prop\": 0.1, \"batch\": 100}\n",
    " \n",
    "    def _getsizing(self, comminfo, cash, data, isbuy):\n",
    "        \"\"\"Returns the proper sizing\"\"\"\n",
    " \n",
    "        if isbuy:    # Buying\n",
    "            target = self.broker.getvalue() * self.params.prop    # Ideal total value of the position\n",
    "            price = data.close[0]\n",
    "            shares_ideal = target / price    # How many shares are needed to get target\n",
    "            batches = int(shares_ideal / self.params.batch)    # How many batches is this trade?\n",
    "            shares = batches * self.params.batch    # The actual number of shares bought\n",
    " \n",
    "            if shares * price > cash:\n",
    "                return 0    # Not enough money for this trade\n",
    "            else:\n",
    "                return shares\n",
    " \n",
    "        else:    # Selling\n",
    "            return self.broker.getposition(data).size    # Clear the position\n"
   ]
  },
  {
   "cell_type": "code",
   "execution_count": 4,
   "metadata": {
    "collapsed": true
   },
   "outputs": [],
   "source": [
    "class AcctValue(bt.Observer):\n",
    "    alias = ('Value',)\n",
    "    lines = ('value',)\n",
    " \n",
    "    plotinfo = {\"plot\": True, \"subplot\": True}\n",
    " \n",
    "    def next(self):\n",
    "        self.lines.value[0] = self._owner.broker.getvalue()    # Get today's account value (cash + stocks)\n"
   ]
  },
  {
   "cell_type": "code",
   "execution_count": 5,
   "metadata": {
    "collapsed": true
   },
   "outputs": [],
   "source": [
    "class AcctStats(bt.Analyzer):\n",
    "    \"\"\"A simple analyzer that gets the gain in the value of the account; should be self-explanatory\"\"\"\n",
    " \n",
    "    def __init__(self):\n",
    "        self.start_val = self.strategy.broker.get_value()\n",
    "        self.end_val = None\n",
    " \n",
    "    def stop(self):\n",
    "        self.end_val = self.strategy.broker.get_value()\n",
    " \n",
    "    def get_analysis(self):\n",
    "        return {\"start\": self.start_val, \"end\": self.end_val,\n",
    "                \"growth\": self.end_val - self.start_val, \"return\": self.end_val / self.start_val}\n",
    "\n"
   ]
  },
  {
   "cell_type": "code",
   "execution_count": 8,
   "metadata": {
    "collapsed": true
   },
   "outputs": [],
   "source": [
    "# Generate random combinations of fast and slow window lengths to test\n",
    "windowset = set()    # Use a set to avoid duplicates\n",
    "while len(windowset) < 40:\n",
    "    f = random.randint(1, 10) * 5\n",
    "    s = random.randint(1, 10) * 10\n",
    "    if f > s:    # Cannot have the fast moving average have a longer window than the slow, so swap\n",
    "        f, s = s, f\n",
    "    elif f == s:    # Cannot be equal, so do nothing, discarding results\n",
    "        pass\n",
    "    windowset.add((f, s))\n",
    "\n",
    "windows = list(windowset)\n",
    "windows\n",
    "\n",
    "start = datetime.datetime(2010, 1, 1)\n",
    "end = datetime.datetime(2016, 10, 31)\n",
    "is_first = True\n",
    "# Not the same set of symbols as in other blog posts\n",
    "symbols = [\"AAPL\", \"GOOG\", \"MSFT\", \"AMZN\", \"YHOO\", \"SNY\", \"NTDOY\", \"IBM\", \"HPQ\", \"QCOM\", \"NVDA\"]\n",
    "plot_symbols = [\"AAPL\", \"GOOG\", \"NVDA\"]\n",
    "\n",
    "optorebro = bt.Cerebro(maxcpus=4)    # Object for optimization (setting maxcpus to 1\n",
    "                                     # cuz parallelization throws errors; why?)\n",
    "optorebro.broker.set_cash(1000000)\n",
    "optorebro.broker.setcommission(0.02)\n",
    "optorebro.optstrategy(SMAC, optim=True,    # Optimize the strategy (use optim variant of SMAC)...\n",
    "                      optim_fs=windows)    # ... over all possible combinations of windows\n",
    "for s in symbols:\n",
    "    data = bt.feeds.YahooFinanceData(dataname=s, fromdate=start, todate=end)\n",
    "    optorebro.adddata(data)\n",
    "\n",
    "optorebro.addanalyzer(AcctStats)\n",
    "optorebro.addsizer(PropSizer)"
   ]
  },
  {
   "cell_type": "code",
   "execution_count": null,
   "metadata": {},
   "outputs": [],
   "source": [
    "res = optorebro.run()    # Perform the optimization"
   ]
  },
  {
   "cell_type": "code",
   "execution_count": null,
   "metadata": {
    "collapsed": true
   },
   "outputs": [],
   "source": [
    "# Store results of optimization in a DataFrame\n",
    "return_opt = DataFrame({r[0].params.optim_fs: r[0].analyzers.acctstats.get_analysis() for r in res}\n",
    "                      ).T.loc[:, ['end', 'growth', 'return']]\n",
    "return_opt"
   ]
  }
 ],
 "metadata": {
  "kernelspec": {
   "display_name": "Python 3",
   "language": "python",
   "name": "python3"
  },
  "language_info": {
   "codemirror_mode": {
    "name": "ipython",
    "version": 3
   },
   "file_extension": ".py",
   "mimetype": "text/x-python",
   "name": "python",
   "nbconvert_exporter": "python",
   "pygments_lexer": "ipython3",
   "version": "3.5.3"
  }
 },
 "nbformat": 4,
 "nbformat_minor": 2
}
